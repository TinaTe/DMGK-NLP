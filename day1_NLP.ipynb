{
 "cells": [
  {
   "cell_type": "code",
   "execution_count": 19,
   "id": "d880de7c",
   "metadata": {},
   "outputs": [
    {
     "name": "stdout",
     "output_type": "stream",
     "text": [
      "anit\n"
     ]
    }
   ],
   "source": [
    "def revString(t = \"tacocat\"):\n",
    "    length = len(t)-1\n",
    "    newT = []\n",
    "    while length >= 0:\n",
    "        newT.append(t[length])\n",
    "        length = length -1\n",
    "    return ''.join(newT)\n",
    "        \n",
    "print(revString(\"tina\"))"
   ]
  },
  {
   "cell_type": "code",
   "execution_count": 30,
   "id": "1eeaaf63",
   "metadata": {},
   "outputs": [
    {
     "name": "stdout",
     "output_type": "stream",
     "text": [
      "2 5\n"
     ]
    }
   ],
   "source": [
    "def countCapsAndLows(t = \"TacoCat\"):\n",
    "    caps = 0\n",
    "    lows = 0\n",
    "    letter = len(t)-1\n",
    "    while letter >= 0:\n",
    "        if t[letter].isupper(): \n",
    "            caps = caps +1\n",
    "        else :\n",
    "            lows = lows +1\n",
    "        letter = letter -1\n",
    "    return [caps, lows]\n",
    "x = countCapsAndLows()\n",
    "print(x[0], x[1])"
   ]
  },
  {
   "cell_type": "code",
   "execution_count": 35,
   "id": "395756a7",
   "metadata": {},
   "outputs": [
    {
     "data": {
      "text/plain": [
       "True"
      ]
     },
     "execution_count": 35,
     "metadata": {},
     "output_type": "execute_result"
    }
   ],
   "source": [
    "def isPalindrome(t = \"tacocat\"):\n",
    "    length = len(t)-1\n",
    "    newT = []\n",
    "    while length >= 0:\n",
    "        newT.append(t[length])\n",
    "        length = length -1\n",
    "    newT = ''.join(newT)\n",
    "    pal = t == newT\n",
    "    return pal\n",
    "isPalindrome()"
   ]
  },
  {
   "cell_type": "code",
   "execution_count": 37,
   "id": "b8d394b5",
   "metadata": {},
   "outputs": [
    {
     "data": {
      "text/plain": [
       "'mozzarella-spaghetti-taco'"
      ]
     },
     "execution_count": 37,
     "metadata": {},
     "output_type": "execute_result"
    }
   ],
   "source": [
    "def sortHyphenSeq(t = \"taco-spaghetti-mozzarella\"):\n",
    "    li = t.split(\"-\")\n",
    "    li.sort()\n",
    "    newT = \"-\".join(li)\n",
    "    return newT\n",
    "sortHyphenSeq()"
   ]
  }
 ],
 "metadata": {
  "kernelspec": {
   "display_name": "Python 3 (ipykernel)",
   "language": "python",
   "name": "python3"
  },
  "language_info": {
   "codemirror_mode": {
    "name": "ipython",
    "version": 3
   },
   "file_extension": ".py",
   "mimetype": "text/x-python",
   "name": "python",
   "nbconvert_exporter": "python",
   "pygments_lexer": "ipython3",
   "version": "3.9.13"
  }
 },
 "nbformat": 4,
 "nbformat_minor": 5
}
